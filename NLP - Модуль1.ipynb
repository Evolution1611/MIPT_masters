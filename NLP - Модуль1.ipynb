{
  "nbformat": 4,
  "nbformat_minor": 0,
  "metadata": {
    "colab": {
      "provenance": [],
      "include_colab_link": true
    },
    "kernelspec": {
      "name": "python3",
      "display_name": "Python 3"
    },
    "language_info": {
      "name": "python"
    },
    "accelerator": "GPU"
  },
  "cells": [
    {
      "cell_type": "markdown",
      "metadata": {
        "id": "view-in-github",
        "colab_type": "text"
      },
      "source": [
        "<a href=\"https://colab.research.google.com/github/Evolution1611/MIPT_masters/blob/main/NLP%20-%20%D0%9C%D0%BE%D0%B4%D1%83%D0%BB%D1%8C1.ipynb\" target=\"_parent\"><img src=\"https://colab.research.google.com/assets/colab-badge.svg\" alt=\"Open In Colab\"/></a>"
      ]
    },
    {
      "cell_type": "code",
      "execution_count": null,
      "metadata": {
        "id": "mEb91VHf9Uao",
        "colab": {
          "base_uri": "https://localhost:8080/"
        },
        "outputId": "c5ff44b3-70ee-4ddd-df70-34be9fd80f5d"
      },
      "outputs": [
        {
          "output_type": "stream",
          "name": "stdout",
          "text": [
            "Looking in indexes: https://pypi.org/simple, https://us-python.pkg.dev/colab-wheels/public/simple/\n",
            "Collecting transformers\n",
            "  Downloading transformers-4.19.2-py3-none-any.whl (4.2 MB)\n",
            "\u001b[K     |████████████████████████████████| 4.2 MB 5.1 MB/s \n",
            "\u001b[?25hCollecting tokenizers!=0.11.3,<0.13,>=0.11.1\n",
            "  Downloading tokenizers-0.12.1-cp37-cp37m-manylinux_2_12_x86_64.manylinux2010_x86_64.whl (6.6 MB)\n",
            "\u001b[K     |████████████████████████████████| 6.6 MB 53.2 MB/s \n",
            "\u001b[?25hRequirement already satisfied: numpy>=1.17 in /usr/local/lib/python3.7/dist-packages (from transformers) (1.21.6)\n",
            "Requirement already satisfied: requests in /usr/local/lib/python3.7/dist-packages (from transformers) (2.23.0)\n",
            "Collecting pyyaml>=5.1\n",
            "  Downloading PyYAML-6.0-cp37-cp37m-manylinux_2_5_x86_64.manylinux1_x86_64.manylinux_2_12_x86_64.manylinux2010_x86_64.whl (596 kB)\n",
            "\u001b[K     |████████████████████████████████| 596 kB 57.5 MB/s \n",
            "\u001b[?25hRequirement already satisfied: packaging>=20.0 in /usr/local/lib/python3.7/dist-packages (from transformers) (21.3)\n",
            "Requirement already satisfied: regex!=2019.12.17 in /usr/local/lib/python3.7/dist-packages (from transformers) (2019.12.20)\n",
            "Requirement already satisfied: importlib-metadata in /usr/local/lib/python3.7/dist-packages (from transformers) (4.11.4)\n",
            "Collecting huggingface-hub<1.0,>=0.1.0\n",
            "  Downloading huggingface_hub-0.7.0-py3-none-any.whl (86 kB)\n",
            "\u001b[K     |████████████████████████████████| 86 kB 5.2 MB/s \n",
            "\u001b[?25hRequirement already satisfied: filelock in /usr/local/lib/python3.7/dist-packages (from transformers) (3.7.0)\n",
            "Requirement already satisfied: tqdm>=4.27 in /usr/local/lib/python3.7/dist-packages (from transformers) (4.64.0)\n",
            "Requirement already satisfied: typing-extensions>=3.7.4.3 in /usr/local/lib/python3.7/dist-packages (from huggingface-hub<1.0,>=0.1.0->transformers) (4.2.0)\n",
            "Requirement already satisfied: pyparsing!=3.0.5,>=2.0.2 in /usr/local/lib/python3.7/dist-packages (from packaging>=20.0->transformers) (3.0.9)\n",
            "Requirement already satisfied: zipp>=0.5 in /usr/local/lib/python3.7/dist-packages (from importlib-metadata->transformers) (3.8.0)\n",
            "Requirement already satisfied: certifi>=2017.4.17 in /usr/local/lib/python3.7/dist-packages (from requests->transformers) (2022.5.18.1)\n",
            "Requirement already satisfied: chardet<4,>=3.0.2 in /usr/local/lib/python3.7/dist-packages (from requests->transformers) (3.0.4)\n",
            "Requirement already satisfied: idna<3,>=2.5 in /usr/local/lib/python3.7/dist-packages (from requests->transformers) (2.10)\n",
            "Requirement already satisfied: urllib3!=1.25.0,!=1.25.1,<1.26,>=1.21.1 in /usr/local/lib/python3.7/dist-packages (from requests->transformers) (1.24.3)\n",
            "Installing collected packages: pyyaml, tokenizers, huggingface-hub, transformers\n",
            "  Attempting uninstall: pyyaml\n",
            "    Found existing installation: PyYAML 3.13\n",
            "    Uninstalling PyYAML-3.13:\n",
            "      Successfully uninstalled PyYAML-3.13\n",
            "Successfully installed huggingface-hub-0.7.0 pyyaml-6.0 tokenizers-0.12.1 transformers-4.19.2\n"
          ]
        }
      ],
      "source": [
        "!pip install transformers\n",
        "from transformers import pipeline"
      ]
    },
    {
      "cell_type": "markdown",
      "source": [
        "Тематическая классификация"
      ],
      "metadata": {
        "id": "Utg6bWTVbhbm"
      }
    },
    {
      "cell_type": "code",
      "source": [
        "cls_pl = pipeline(\"text-classification\", \"nateraw/bert-base-uncased-ag-news\")\n",
        "cls_pl('NLP is a field of linguistics and machine learning focused on understanding everything related to human language.')"
      ],
      "metadata": {
        "colab": {
          "base_uri": "https://localhost:8080/"
        },
        "id": "rDdRQYeVZeth",
        "outputId": "fd5c8868-0415-47b9-f783-a75e94f2440c"
      },
      "execution_count": null,
      "outputs": [
        {
          "output_type": "execute_result",
          "data": {
            "text/plain": [
              "[{'label': 'Sci/Tech', 'score': 0.9625065326690674}]"
            ]
          },
          "metadata": {},
          "execution_count": 5
        }
      ]
    },
    {
      "cell_type": "markdown",
      "source": [
        "Token classification"
      ],
      "metadata": {
        "id": "l8YEFQV8gpoW"
      }
    },
    {
      "cell_type": "code",
      "source": [
        "ner_pipeline = pipeline(\"ner\", \"dslim/bert-base-NER\", aggregation_strategy=\"first\")\n",
        "ner_pipeline(\"Matthew Carrigan is a Machine Learning Engineer at Hugging Face. He lives in Dublin, Ireland and previously worked as an ML engineer at Parse.ly and before that as a post-doctoral researcher at Trinity College Dublin.\")"
      ],
      "metadata": {
        "colab": {
          "base_uri": "https://localhost:8080/"
        },
        "id": "cZ5iPN-GgvI2",
        "outputId": "e3b4381c-7930-4a85-b260-2bd8af22b528"
      },
      "execution_count": null,
      "outputs": [
        {
          "output_type": "execute_result",
          "data": {
            "text/plain": [
              "[{'end': 16,\n",
              "  'entity_group': 'PER',\n",
              "  'score': 0.9996791,\n",
              "  'start': 0,\n",
              "  'word': 'Matthew Carrigan'},\n",
              " {'end': 63,\n",
              "  'entity_group': 'ORG',\n",
              "  'score': 0.9857482,\n",
              "  'start': 51,\n",
              "  'word': 'Hugging Face'},\n",
              " {'end': 83,\n",
              "  'entity_group': 'LOC',\n",
              "  'score': 0.9993766,\n",
              "  'start': 77,\n",
              "  'word': 'Dublin'},\n",
              " {'end': 92,\n",
              "  'entity_group': 'LOC',\n",
              "  'score': 0.9996132,\n",
              "  'start': 85,\n",
              "  'word': 'Ireland'},\n",
              " {'end': 123,\n",
              "  'entity_group': 'ORG',\n",
              "  'score': 0.8430878,\n",
              "  'start': 121,\n",
              "  'word': 'ML'},\n",
              " {'end': 144,\n",
              "  'entity_group': 'ORG',\n",
              "  'score': 0.94738436,\n",
              "  'start': 136,\n",
              "  'word': 'Parse. ly'},\n",
              " {'end': 216,\n",
              "  'entity_group': 'ORG',\n",
              "  'score': 0.9977536,\n",
              "  'start': 194,\n",
              "  'word': 'Trinity College Dublin'}]"
            ]
          },
          "metadata": {},
          "execution_count": 3
        }
      ]
    },
    {
      "cell_type": "markdown",
      "source": [
        "Перевод с русского на английский"
      ],
      "metadata": {
        "id": "TUKynAykbT2z"
      }
    },
    {
      "cell_type": "code",
      "source": [
        "ru_en_translator = pipeline(\"translation_ru_to_en\", \"facebook/wmt19-ru-en\")\n",
        "ru_en_translator(\"Мэтью Кэрриган - инженер-механик в компании Hugging Face. Он живет в Дублине, Ирландия, а до этого работал инженером-программистом в Parse.ly, а до этого - постдоком-исследователем в дублинском колледже Trinity College.\")"
      ],
      "metadata": {
        "id": "sNHfmGA2-LtD"
      },
      "execution_count": null,
      "outputs": []
    },
    {
      "cell_type": "markdown",
      "source": [
        "Перевод с английского на русский"
      ],
      "metadata": {
        "id": "dI-0CwXObcBr"
      }
    },
    {
      "cell_type": "code",
      "source": [
        "txt = \"Matthew Carrigan is a Machine Learning Engineer at Hugging Face. He lives in Dublin, Ireland and previously worked as an ML engineer at Parse.ly and before that as a post-doctoral researcher at Trinity College Dublin.\"\n",
        "en_ru_translator = pipeline(\"translation_ru_to_en\", \"facebook/wmt19-en-ru\")\n",
        "en_ru_translator(txt)"
      ],
      "metadata": {
        "id": "FiLVAnY_nMBF"
      },
      "execution_count": null,
      "outputs": []
    },
    {
      "cell_type": "markdown",
      "source": [
        "Аннотирование"
      ],
      "metadata": {
        "id": "dly4UU3qblgP"
      }
    },
    {
      "cell_type": "code",
      "source": [
        "sum_pipeline = pipeline(\"summarization\", \"IlyaGusev/rut5_base_sum_gazeta\")\n",
        "sum_pipeline(\"Естественным развитием задач классификации всего текста или его фрагментов является классификация отдельных слов в предложении. Наиболее распространенной задачей такого вида является задача выделения именованных сущностей (NER - named entity recognition) - в данном случае необходимо для каждого слова в тексте проставить класс принадлежности его к тому или иному типу сущности (например, организация, персона, локация и т.д.), либо пустой класс, показывающий, что слово не относится ни к одному из рассматриваемых классов. С помощью NER можно разрабатывать системы автоматического заполнения форм документов, составления отчетов о компаниях, нахождения разных упоминания одних и тех же сущностей (это задача entity linking - она решается после ner), удаления персональной информации из текстов и т.д. Кроме классификации слов текста на именованные сущности, можно производить классификацию по каким-то другим критериям - например, по частям речи (хотя это практическое использование такого рода задач гораздо уже).\")"
      ],
      "metadata": {
        "id": "S8JP8zyK2jU8",
        "colab": {
          "base_uri": "https://localhost:8080/",
          "height": 374
        },
        "outputId": "95d32c23-f03c-426b-cff0-fbbe4a16eb58"
      },
      "execution_count": null,
      "outputs": [
        {
          "output_type": "error",
          "ename": "NameError",
          "evalue": "ignored",
          "traceback": [
            "\u001b[0;31m---------------------------------------------------------------------------\u001b[0m",
            "\u001b[0;31mNameError\u001b[0m                                 Traceback (most recent call last)",
            "\u001b[0;32m<ipython-input-1-f0ce167272c2>\u001b[0m in \u001b[0;36m<module>\u001b[0;34m()\u001b[0m\n\u001b[0;32m----> 1\u001b[0;31m \u001b[0msum_pipeline\u001b[0m \u001b[0;34m=\u001b[0m \u001b[0mpipeline\u001b[0m\u001b[0;34m(\u001b[0m\u001b[0;34m\"summarization\"\u001b[0m\u001b[0;34m,\u001b[0m \u001b[0;34m\"IlyaGusev/rut5_base_sum_gazeta\"\u001b[0m\u001b[0;34m)\u001b[0m\u001b[0;34m\u001b[0m\u001b[0;34m\u001b[0m\u001b[0m\n\u001b[0m\u001b[1;32m      2\u001b[0m \u001b[0msum_pipeline\u001b[0m\u001b[0;34m(\u001b[0m\u001b[0;34m\"Естественным развитием задач классификации всего текста или его фрагментов является классификация отдельных слов в предложении. Наиболее распространенной задачей такого вида является задача выделения именованных сущностей (NER - named entity recognition) - в данном случае необходимо для каждого слова в тексте проставить класс принадлежности его к тому или иному типу сущности (например, организация, персона, локация и т.д.), либо пустой класс, показывающий, что слово не относится ни к одному из рассматриваемых классов. С помощью NER можно разрабатывать системы автоматического заполнения форм документов, составления отчетов о компаниях, нахождения разных упоминания одних и тех же сущностей (это задача entity linking - она решается после ner), удаления персональной информации из текстов и т.д. Кроме классификации слов текста на именованные сущности, можно производить классификацию по каким-то другим критериям - например, по частям речи (хотя это практическое использование такого рода задач гораздо уже).\"\u001b[0m\u001b[0;34m)\u001b[0m\u001b[0;34m\u001b[0m\u001b[0;34m\u001b[0m\u001b[0m\n",
            "\u001b[0;31mNameError\u001b[0m: name 'pipeline' is not defined"
          ]
        }
      ]
    },
    {
      "cell_type": "markdown",
      "source": [
        "Поиск ответа на вопрос"
      ],
      "metadata": {
        "id": "2xlY3IfzeG1H"
      }
    },
    {
      "cell_type": "code",
      "source": [
        "qa_pipeline = pipeline(\"question-answering\", \"deepset/roberta-base-squad2\")\n",
        "question = \"Which name is also used to describe the Amazon rainforest in English?\"\n",
        "context = \"The Amazon rainforest (Portuguese: Floresta Amazônica or Amazônia; Spanish: Selva Amazónica, Amazonía or usually Amazonia; French: Forêt amazonienne; Dutch: Amazoneregenwoud), also known in English as Amazonia or the Amazon Jungle, is a moist broadleaf forest that covers most of the Amazon basin of South America. This basin encompasses 7,000,000 square kilometres (2,700,000 sq mi), of which 5,500,000 square kilometres (2,100,000 sq mi) are covered by the rainforest. This region includes territory belonging to nine nations. The majority of the forest is contained within Brazil, with 60% of the rainforest, followed by Peru with 13%, Colombia with 10%, and with minor amounts in Venezuela, Ecuador, Bolivia, Guyana, Suriname and French Guiana. States or departments in four nations contain \\\"Amazonas\\\" in their names. The Amazon represents over half of the planet's remaining rainforests, and comprises the largest and most biodiverse tract of tropical rainforest in the world, with an estimated 390 billion individual trees divided into 16,000 species.\"\n",
        "qa_pipeline(question, context)"
      ],
      "metadata": {
        "id": "AE5MqwPmbQzu"
      },
      "execution_count": null,
      "outputs": []
    }
  ]
}